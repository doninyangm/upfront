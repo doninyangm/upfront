{
  "metadata": {
    "language_info": {
      "codemirror_mode": {
        "name": "python",
        "version": 3
      },
      "file_extension": ".py",
      "mimetype": "text/x-python",
      "name": "python",
      "nbconvert_exporter": "python",
      "pygments_lexer": "ipython3",
      "version": "3.8"
    },
    "kernelspec": {
      "name": "python",
      "display_name": "Python (Pyodide)",
      "language": "python"
    }
  },
  "nbformat_minor": 4,
  "nbformat": 4,
  "cells": [
    {
      "cell_type": "code",
      "source": "import pandas as pd",
      "metadata": {
        "trusted": true
      },
      "execution_count": 3,
      "outputs": []
    },
    {
      "cell_type": "code",
      "source": "# Read the data \ndf = pd.read_csv(\"test.csv\")",
      "metadata": {
        "trusted": true
      },
      "execution_count": 4,
      "outputs": []
    },
    {
      "cell_type": "code",
      "source": "# Calculate the difference between the upfront price and the metered price\ndf[\"price_difference\"] = df[\"metered_price\"] - df[\"upfront_price\"]",
      "metadata": {
        "trusted": true
      },
      "execution_count": 5,
      "outputs": []
    },
    {
      "cell_type": "code",
      "source": "# Filter for rides where the price difference is greater than 20%\ndf_filtered = df[df[\"price_difference\"] > 0.2]",
      "metadata": {
        "trusted": true
      },
      "execution_count": 6,
      "outputs": []
    },
    {
      "cell_type": "code",
      "source": "# Get the top 1 to 2 opportunities that can help improve upfront pricing precision\ntop_opportunities = df_filtered.groupby(\"prediction_price_type\").agg(\n    count=(\"order_id_new\", \"count\"),\n    mean_price_difference=(\"price_difference\", \"mean\"),\n).sort_values(by=[\"mean_price_difference\"], ascending=False)",
      "metadata": {
        "trusted": true
      },
      "execution_count": 7,
      "outputs": []
    },
    {
      "cell_type": "code",
      "source": "# Print the top opportunities\nprint(top_opportunities.head(2))",
      "metadata": {
        "trusted": true
      },
      "execution_count": 8,
      "outputs": [
        {
          "name": "stdout",
          "text": "                       count  mean_price_difference\nprediction_price_type                              \nupfront                 1771             3395.90991\n",
          "output_type": "stream"
        }
      ]
    }
  ]
}